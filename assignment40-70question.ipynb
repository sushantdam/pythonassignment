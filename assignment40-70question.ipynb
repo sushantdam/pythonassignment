{
 "cells": [
  {
   "cell_type": "code",
   "execution_count": null,
   "id": "f25778da",
   "metadata": {},
   "outputs": [],
   "source": [
    "#40] Python program to check if a string is palindrome or not Reverse words in a given String in \n",
    "#1]using user define function\n",
    "# def test(s):\n",
    "#     return s==s[::-1]\n",
    "# s= \"malayalam\"\n",
    "# ans=test(s)\n",
    "# print(s)\n",
    "# if ans:\n",
    "#     print(\"yes\")\n",
    "# else:\n",
    "#     print(\"no\")\n",
    "\n",
    "#2]using for loop\n",
    "# x = \"malayalam\"\n",
    "# k= \"\"\n",
    "# for i in x:\n",
    "#     k=i+k\n",
    "# print(k)\n",
    "# if (x==k):\n",
    "#     print(\"yes\")\n",
    "# else:\n",
    "#     print(\"no\")\n",
    "\n",
    "# def decor(func):\n",
    "#     def inner(a):\n",
    "#         temp=func(a)==func(a[::-1])\n",
    "#         return temp\n",
    "#     return inner\n",
    "    \n",
    "    \n",
    "# @decor\n",
    "# def palindrome(s):\n",
    "#     return s\n",
    "    \n",
    "# if palindrome(\"sushant\"):\n",
    "#     print(\"yes its palindrome\")\n",
    "# else:\n",
    "#     print(\"Not a palindrome\")\n"
   ]
  },
  {
   "cell_type": "code",
   "execution_count": 16,
   "id": "c343696b",
   "metadata": {},
   "outputs": [
    {
     "name": "stdout",
     "output_type": "stream",
     "text": [
      "dakondwar\n"
     ]
    }
   ],
   "source": [
    "#41] Python Ways to remove i’th character from string \n",
    "#1]replace method\n",
    "# s1= \"damkondwar\"\n",
    "# newstr=s1.replace(\"m\",\"\")\n",
    "# print(newstr)\n",
    "\n",
    "#2]using for loop\n",
    "# str1 = \"damkondwar\"\n",
    "# new_str = \"\"\n",
    "  \n",
    "# for i in range(len(str1)):\n",
    "#     if i != 2:\n",
    "#         new_str=new_str+str1[i]\n",
    "# print(new_str)\n",
    "\n",
    "#3]using slice\n",
    "# str1=\"damkondwar\"\n",
    "# new_str=str1[:2]+str1[3:]\n",
    "# print(new_str)\n"
   ]
  },
  {
   "cell_type": "code",
   "execution_count": 25,
   "id": "8aec23c5",
   "metadata": {},
   "outputs": [
    {
     "name": "stdout",
     "output_type": "stream",
     "text": [
      "yes\n"
     ]
    }
   ],
   "source": [
    "#42]Python | Check if a Substring is Present in a Given String Find length of a string in python (4 ways) \n",
    "#1] usingn method\n",
    "# s1= \"i am sushant damkondwar\"\n",
    "# s2=\"am\"\n",
    "# def test(s2,s1):\n",
    "#     if s2 in s1:\n",
    "#         print(\"yes\")\n",
    "#     else:\n",
    "#         print(\"no\")\n",
    "\n",
    "# test(s2,s1) \n",
    "\n",
    "\n"
   ]
  },
  {
   "cell_type": "code",
   "execution_count": 5,
   "id": "8de68f46",
   "metadata": {},
   "outputs": [
    {
     "name": "stdout",
     "output_type": "stream",
     "text": [
      "am\n",
      "damkondwar\n",
      "\n"
     ]
    }
   ],
   "source": [
    "#43] Python program to print even length words in a string \n",
    "#1]using function\n",
    "# p=\"i am sushant damkondwar \"\n",
    "# def test(p):\n",
    "#     p=p.split(\" \")\n",
    "#     for word in p:\n",
    "#         if len(word)%2==0:\n",
    "#             print(word)\n",
    "# test(p)\n",
    "\n",
    "\n",
    "#2]user input\n",
    "# str1 = input(\"enter a string \")\n",
    "# def even_len(str1):\n",
    "#     l1 = str1.split()\n",
    "#     for word in l1:\n",
    "#         if len(word) % 2 == 0:\n",
    "#             print(word)\n",
    "# even_len(str1)           \n",
    "        \n",
    "    \n",
    "\n"
   ]
  },
  {
   "cell_type": "code",
   "execution_count": null,
   "id": "886d590d",
   "metadata": {},
   "outputs": [],
   "source": [
    "#44] Python | Program to accept the strings which contains all vowels\n",
    "#1] using if else\n",
    "# str1 = input(\"enter the string \")\n",
    "# l1 = [\"a\",\"e\",\"i\",\"o\",\"u\"]\n",
    "# l2 = []\n",
    "# for i in str1:\n",
    "#     if i in l1:\n",
    "#         if i not in l2:\n",
    "#             l2.append(i)\n",
    "#     # elif i == \" \":\n",
    "#     #     l2.append(i)\n",
    "# if len(l2) == len(l1):\n",
    "#     print(\"string accepted\")\n",
    "# else:\n",
    "#     print(\"string rejected\")\n",
    "\n",
    "\n",
    "\n",
    "#2] Python program for the above approach\n",
    "# def check(string):\n",
    "#  if len(set(string.lower()).intersection(\"aeiou\")) == 5:\n",
    "#       return ('accepted')\n",
    "#  else:\n",
    "#       return (\"not accepted\")\n",
    "\n",
    "# # Driver code\n",
    "# if __name__ == \"__main__\":\n",
    "#  string = \"Geeksforaeiou aeiou\"\n",
    "#   print(check(string))\n",
    "\n",
    "#3] using function\n",
    "# def check(string):\n",
    "#   string = string.replace(' ', '')\n",
    "#   string = string.lower()\n",
    "#   vowel = [string.count('a'), string.count('e'), string.count('i'), string.count('o'), string.count('u')]\n",
    "\n",
    "#  # If 0 is present int vowel count array\n",
    "\n",
    "#     if vowel.count(0) > 0:\n",
    "#        return('not accepted')\n",
    "#     else:\n",
    "#        eturn('accepted')\n",
    "\n",
    "\n",
    "# # Driver code\n",
    "# if __name__ == \"__main__\":\n",
    "\n",
    "#   string = \"SEEquoiaL\"\n",
    "\n",
    "#   print(check(string))\n",
    "\n",
    "\n",
    "\n",
    "\n",
    "\n"
   ]
  },
  {
   "cell_type": "code",
   "execution_count": 1,
   "id": "fa5f4ffc",
   "metadata": {},
   "outputs": [
    {
     "name": "stdout",
     "output_type": "stream",
     "text": [
      "enter the string:sushant is good python programmer\n",
      "enter the string:sushant is python programmer\n",
      "15\n"
     ]
    }
   ],
   "source": [
    "# 45] Python | Count the Number of matching characters in a pair of string\n",
    "str1 = input(\"enter the string:\")\n",
    "str2 = input(\"enter the string:\")\n",
    "l1 = []\n",
    "for i in str1:\n",
    "    if i in str2:\n",
    "        l1.append(i)\n",
    "print(len(set(l1)))\n"
   ]
  },
  {
   "cell_type": "code",
   "execution_count": 3,
   "id": "430e11b1",
   "metadata": {},
   "outputs": [
    {
     "name": "stdout",
     "output_type": "stream",
     "text": [
      "enter string : -aeiou sushant damkondwar\n",
      "aeiou shntdmkwr\n",
      "{'i', 'E', 'I', 'O', 'e', 'o', 'U', 'A', 'u', 'a'}\n",
      "10\n"
     ]
    }
   ],
   "source": [
    "#46] Python program to count number of vowels using sets in given string Remove all duplicates from a given string in Python \n",
    "#1] using function\n",
    "def fun(str):\n",
    "    # rmdupli = ''.join(set(str))\n",
    "    # print(type(rmdupli))\n",
    "    # print(rmdupli)\n",
    "    l2 = []\n",
    "    l1 = list(str)\n",
    "    for i in l1:\n",
    "        if i not in l2 :\n",
    "            l2.append(i)\n",
    "    str1=''.join(l2)\n",
    "    print(str1)\n",
    "\n",
    "    vowels = set('aeiouAEIOU')\n",
    "    print(vowels)\n",
    "    count1 = 0\n",
    "    for i in str:\n",
    "        if i in vowels:\n",
    "            count1 = count1 + 1\n",
    "\n",
    "    print(count1)\n",
    "str = input('enter string : -')\n",
    "fun(str)"
   ]
  },
  {
   "cell_type": "code",
   "execution_count": null,
   "id": "70cc0704",
   "metadata": {},
   "outputs": [],
   "source": [
    "#47] Python | Program to check if a string contains any special character Generating random strings \n",
    "#until a given string is generated Find words which are greater than given length k "
   ]
  },
  {
   "cell_type": "code",
   "execution_count": 8,
   "id": "05112cf7",
   "metadata": {},
   "outputs": [
    {
     "name": "stdout",
     "output_type": "stream",
     "text": [
      "sushat damkondwar\n"
     ]
    }
   ],
   "source": [
    "#48] Python program for removing i-th character from a string\n",
    "#1] using function\n",
    "# def rmstrIth(str1,i) :\n",
    "#     a = str1 [: i]\n",
    "#     b = str1 [i+1 : ]\n",
    "#     # str2 = str1.replace(str1[i],\"\",1)\n",
    "#     # print(str2)\n",
    "#     return a + b\n",
    "# print(rmstrIth('sushant damkondwar',5))\n"
   ]
  },
  {
   "cell_type": "code",
   "execution_count": 10,
   "id": "d5bdf31f",
   "metadata": {},
   "outputs": [
    {
     "name": "stdout",
     "output_type": "stream",
     "text": [
      "['hi', 'sushant', 'good', 'morning']\n",
      "hi-sushant-good-morning\n"
     ]
    }
   ],
   "source": [
    "#49] Python program to split and join a string \n",
    "#1]using function\n",
    "# def SplitJoin(str):\n",
    "#     splited_string = str.split()\n",
    "#     print(splited_string)\n",
    "#     joined_string = '-'.join(splited_string)\n",
    "#     print(joined_string)\n",
    "# SplitJoin('hi sushant good morning')"
   ]
  },
  {
   "cell_type": "code",
   "execution_count": 13,
   "id": "038e0d17",
   "metadata": {},
   "outputs": [
    {
     "name": "stdout",
     "output_type": "stream",
     "text": [
      "enter string : - 0101\n",
      "yes, given inpute string is binary\n"
     ]
    }
   ],
   "source": [
    "#50 Python | Check if a given string is binary string or not\n",
    "#1] using user input\n",
    "# str1 = input('enter string : - ')\n",
    "# def checkStr(str1) :\n",
    "#     s = '01'\n",
    "#     count = 0\n",
    "#     for ch in str1 :\n",
    "#         if ch not in s :\n",
    "#             count = 1\n",
    "#             break\n",
    "#         else :\n",
    "#             pass\n",
    "#     if count :\n",
    "#         print('given inpute string is not binary')\n",
    "#     else :\n",
    "#         print('given inpute string is binary')\n",
    "# checkStr(str1)\n",
    "\n",
    "#2]another method\n",
    "str1 = input('enter string : - ')\n",
    "def checkstr1(str1):\n",
    "    str2 = set(str1)\n",
    "    s1 = {'1','0'}\n",
    "    if str2 == s1 or str2 == {'0'} or str2 =={'1'} :\n",
    "        print('yes, given inpute string is binary')\n",
    "    else :\n",
    "        print('no,given inpute string is not binary')\n",
    "checkstr1(str1)"
   ]
  },
  {
   "cell_type": "code",
   "execution_count": 17,
   "id": "ffaa1182",
   "metadata": {},
   "outputs": [
    {
     "name": "stdout",
     "output_type": "stream",
     "text": [
      "sushant su "
     ]
    }
   ],
   "source": [
    "#51] Python | Find all close matches of input string from a list\n",
    "#1]using for loop\n",
    "# l1 = [\"damkondwar\",\"dam\",\"sushant\",\"su\"]\n",
    "# element = \"sushant\"\n",
    "# for string in l1:\n",
    "#     if string.startswith(element) or element.startswith(string):\n",
    "#         print(string,end=\" \")\n",
    "\n",
    "#2]using in built function\n",
    "# from difflib import get_close_matches\n",
    "# word = 'banana'\n",
    "# patterns = ['ana', 'nana', 'ban', 'ran','tan']\n",
    "# print('matched words:',get_close_matches(word, patterns))"
   ]
  },
  {
   "cell_type": "code",
   "execution_count": 18,
   "id": "351adaf4",
   "metadata": {},
   "outputs": [
    {
     "name": "stdout",
     "output_type": "stream",
     "text": [
      "enter the string:hello  i am good python programmer\n",
      "enter the string:hi i am sushant \n",
      "all uncommon words from both the string:  hello good python programmer hi sushant\n"
     ]
    }
   ],
   "source": [
    "#52] Python program to find uncommon words from two Strings\n",
    "#1]using for loop\n",
    "# str1 = input(\"enter the string:\")\n",
    "# str2 = input(\"enter the string:\")\n",
    "# l1 = str1.split()\n",
    "# l2 = str2.split()\n",
    "# uncommon = \"\"\n",
    "# for i in l1:\n",
    "#     if i not in l2:\n",
    "#         uncommon = uncommon + \" \" + i\n",
    "# for i in l2:\n",
    "#     if i not in l1:\n",
    "#         uncommon = uncommon + \" \" + i\n",
    "\n",
    "# print(\"all uncommon words from both the string:\", uncommon)"
   ]
  },
  {
   "cell_type": "code",
   "execution_count": 20,
   "id": "7d7ad0b1",
   "metadata": {},
   "outputs": [
    {
     "name": "stdout",
     "output_type": "stream",
     "text": [
      "14.625.498, 002\n"
     ]
    }
   ],
   "source": [
    "#53] Python | Swap commas and dots in a String\n",
    "#1]using maketrans\n",
    "# def Replace(str1):\n",
    "#     maketrans = str1.maketrans\n",
    "#     print(maketrans)\n",
    "#     final = str1.translate(maketrans(', .', '., '))\n",
    "#     return final\n",
    "\n",
    "# string = \"14, 625, 498.002\"\n",
    "# print(Replace(string))\n",
    "\n",
    "#2]using Replace\n",
    "# def Replace(str1):\n",
    "#     str1 = str1.replace(', ', 'third')\n",
    "#     str1 = str1.replace('.', ', ')\n",
    "#     str1 = str1.replace('third', '.')\n",
    "#     return str1\n",
    "\n",
    "\n",
    "# string = \"14, 625, 498.002\"\n",
    "# print(Replace(string))\n"
   ]
  },
  {
   "cell_type": "code",
   "execution_count": 22,
   "id": "52b54d6f",
   "metadata": {},
   "outputs": [
    {
     "name": "stdout",
     "output_type": "stream",
     "text": [
      "abcdefghijklmnopqrstuvwxyzABCDEFGHIJKLMNOPQRSTUVWXYZ\n",
      "<itertools.permutations object at 0x000002C3E02D0D60>\n",
      "GEEK\n",
      "GEKE\n",
      "GKEE\n",
      "EGEK\n",
      "EGKE\n",
      "EEGK\n",
      "EEKG\n",
      "EKGE\n",
      "EKEG\n",
      "KGEE\n",
      "KEGE\n",
      "KEEG\n"
     ]
    }
   ],
   "source": [
    "#54]Python | Permutation of a given string using inbuilt function \n",
    "# from itertools import permutations\n",
    "# import string\n",
    "\n",
    "# s = \"GEEK\"\n",
    "# a = string.ascii_letters\n",
    "# print(a)\n",
    "# p = permutations(s)\n",
    "# print(p)\n",
    "\n",
    "# # Create a list\n",
    "# d = []\n",
    "# for i in list(p):\n",
    "# \t# Print only if not in list\n",
    "#     if (i not in d):\n",
    "#         d.append(i)\n",
    "#         print(''.join(i))"
   ]
  },
  {
   "cell_type": "code",
   "execution_count": null,
   "id": "c4c9db03",
   "metadata": {},
   "outputs": [],
   "source": [
    "#55]Python | Check for URL in a String Execute a String of Code in \n"
   ]
  },
  {
   "cell_type": "code",
   "execution_count": 23,
   "id": "adcfdfa4",
   "metadata": {},
   "outputs": [
    {
     "name": "stdout",
     "output_type": "stream",
     "text": [
      "Left rotation: shantsu\n",
      "Rightrotation: ntsusha\n"
     ]
    }
   ],
   "source": [
    "#56]Python String slicing in Python to rotate a string \n",
    "#1]using function\n",
    "def rotate(str1,d):\n",
    "    lfirst = str1[0:d]\n",
    "    lsecond = str1[d:]\n",
    "    rfirst = str1[0:len(str1)-d]\n",
    "    rsecond = str1[len(str1)-d:]\n",
    "    print('Left rotation:',(lsecond+lfirst))\n",
    "    print('Rightrotation:',(rsecond+rfirst))\n",
    "if __name__ == '__main__':\n",
    "    str1='sushant'\n",
    "    d = 2\n",
    "    rotate(str1,d)"
   ]
  },
  {
   "cell_type": "code",
   "execution_count": 24,
   "id": "6aac5500",
   "metadata": {},
   "outputs": [
    {
     "name": "stdout",
     "output_type": "stream",
     "text": [
      "4\n",
      "2\n",
      "-1\n",
      "False\n"
     ]
    }
   ],
   "source": [
    "#57] String slicing in Python to check if a string can become empty by recursive deletion \n",
    "#1] using while loop\n",
    "# def solve(s, t):\n",
    "#     while len(s) > 0:\n",
    "#         position = s.find(t)\n",
    "#         print(position)\n",
    "#         if position == -1:\n",
    "#             break\n",
    "#         s = s.replace(t, \"\", 1)\n",
    "#     return len(s) == 0\n",
    "# s = \"pipipinn\"\n",
    "# t = \"pin\"\n",
    "# print(solve(s, t))"
   ]
  },
  {
   "cell_type": "code",
   "execution_count": 28,
   "id": "01c10e17",
   "metadata": {},
   "outputs": [
    {
     "name": "stdout",
     "output_type": "stream",
     "text": [
      "2 4 2 2 "
     ]
    }
   ],
   "source": [
    "#58] Python Counter| Find all duplicate characters in string Dictionary Programs:\n",
    "#1] by using dict\n",
    "# string = \"sushantdamkondwar\"\n",
    "# duplicates = {}\n",
    "# for char in string:\n",
    "#     if char in duplicates:\n",
    "#         duplicates[char] += 1\n",
    "#     else:\n",
    "#         duplicates[char] = 1\n",
    "# for key, value in duplicates.items():\n",
    "#     if value > 1:\n",
    "#         print(key, end = \" \")\n",
    "\n",
    "\n",
    "#2] Python Counter| Find all duplicate characters in string Dictionary Programs: \n",
    "# from collections import Counter\n",
    "# def find_dup_char(input):\n",
    "#     WC = Counter(input)\n",
    "#     j = -1\n",
    "#     for i in WC.values():\n",
    "#         j = j + 1\n",
    "#         if( i > 1 ):\n",
    "#             print (i,end=\" \")\n",
    "\n",
    "# if __name__ == \"__main__\":\n",
    "#     input = 'sushantdamkondwar\n",
    "#     '\n",
    "#     find_dup_char(input)"
   ]
  },
  {
   "cell_type": "code",
   "execution_count": 32,
   "id": "4c559a20",
   "metadata": {},
   "outputs": [
    {
     "name": "stdout",
     "output_type": "stream",
     "text": [
      "0091\n",
      "0087\n",
      "{'India': '0091', 'Australia': '0025', 'Nepal': '00977', 'Japan': '0087'}\n"
     ]
    }
   ],
   "source": [
    "#59]Python | Sort Python Dictionaries by Key or Value Handling missing keys in\n",
    "# # Method 1] : Using get()\n",
    "# country_code = {'India' : '0091','Australia' : '0025','Nepal' : '00977'}\n",
    "# # search dictionary for country code of India\n",
    "# print(country_code.get('India', 'Not Found'))\n",
    "# # search dictionary for country code of Japan\n",
    "# print(country_code.get('Japan', 'Not Found'))\n",
    "# print(country_code)\n",
    "\n",
    "\n",
    "\n",
    "# Method 2]: Using setdefault()\n",
    "# country_code = {'India' : '0091','Australia' : '0025','Nepal' : '00977'}\n",
    "# country_code.setdefault('Japan', '0087')\n",
    "# print(country_code['India'])\n",
    "# print(country_code['Japan'])\n",
    "# print(country_code)"
   ]
  },
  {
   "cell_type": "code",
   "execution_count": 36,
   "id": "a58cc635",
   "metadata": {},
   "outputs": [
    {
     "name": "stdout",
     "output_type": "stream",
     "text": [
      "{(\"19.07'53.2\", \"72.54'51.0\"): 'Mumbai', (\"28.33'34.1\", \"77.06'16.6\"): 'Delhi'}\n",
      "[\"19.07'53.2\", \"28.33'34.1\"]\n",
      "[\"72.54'51.0\", \"77.06'16.6\"]\n",
      "['Mumbai', 'Delhi']\n"
     ]
    }
   ],
   "source": [
    "#60]Python dictionaries Python dictionary with keys having multiple inputs\n",
    "#1]method 1\n",
    "# my_dict = {}\n",
    "# a, b, c = 15, 26, 38\n",
    "# my_dict[a, b, c] = a + b - c\n",
    "\n",
    "# a, b, c = 5, 4, 11\n",
    "# my_dict[a, b, c] = a + b - c\n",
    "\n",
    "# print(\"The dictionary is :\")\n",
    "# print(my_dict)\n",
    "\n",
    "\n",
    "#2]dictionary containing longitude and latitude of places\n",
    "# places = {(\"19.07'53.2\", \"72.54'51.0\"):\"Mumbai\", (\"28.33'34.1\", \"77.06'16.6\"):\"Delhi\"}\n",
    "# print(places)\n",
    "# #print()\n",
    "# lat = []\n",
    "# long = []\n",
    "# plc = []\n",
    "# for i in places:\n",
    "#     lat.append(i[0])\n",
    "#     long.append(i[1])\n",
    "#     plc.append(places[i[0], i[1]])\n",
    "\n",
    "# print(lat)\n",
    "# print(long)\n",
    "# print(plc)"
   ]
  },
  {
   "cell_type": "code",
   "execution_count": 38,
   "id": "5ecfc867",
   "metadata": {},
   "outputs": [
    {
     "name": "stdout",
     "output_type": "stream",
     "text": [
      "Sum : 10\n"
     ]
    }
   ],
   "source": [
    "#61] Python3 Program to find sum of all items in a Dictionary\n",
    "#1]Function to print sum\n",
    "def returnSum(dict):\n",
    "    sum = 0\n",
    "    for i in dict.keys():\n",
    "        if type(i)==type(1) :\n",
    "          sum = sum + i\n",
    "\n",
    "    return sum\n",
    "\n",
    "dict = {1: 100, 3: 200, 6: 300}\n",
    "print(\"Sum :\", returnSum(dict))"
   ]
  },
  {
   "cell_type": "code",
   "execution_count": 41,
   "id": "cedad73c",
   "metadata": {},
   "outputs": [
    {
     "name": "stdout",
     "output_type": "stream",
     "text": [
      "sushant\n",
      "{'age': 25}\n"
     ]
    }
   ],
   "source": [
    "#62] Python | Ways to remove a key from dictionary Ways to sort list of dictionaries by values in\n",
    "\n",
    "# dict1 = { \"name\" : \"sushant\", \"age\" : 25}\n",
    "\n",
    "# print(dict1.pop('name'))\n",
    "#del dict1['age']\n",
    "# del dict1['age']\n",
    "#print(dict1)"
   ]
  },
  {
   "cell_type": "code",
   "execution_count": null,
   "id": "d300cc5e",
   "metadata": {},
   "outputs": [],
   "source": [
    "#63]. Python – Using itemgetter Ways to sort list of dictionaries by values in Python – Using lambda function\n",
    "\n",
    "\n",
    "\n"
   ]
  },
  {
   "cell_type": "code",
   "execution_count": null,
   "id": "5e3926de",
   "metadata": {},
   "outputs": [],
   "source": [
    "#64]Python | Merging two Dictionaries Program to create grade calculator in Python\n",
    "\n",
    "\n",
    "\n"
   ]
  },
  {
   "cell_type": "code",
   "execution_count": 45,
   "id": "6191ea20",
   "metadata": {},
   "outputs": [
    {
     "name": "stdout",
     "output_type": "stream",
     "text": [
      "OrderedDict([('e', None), ('n', None), ('g', None), ('i', None), ('r', None), ('s', None), (' ', None), ('o', None), ('c', None), ('k', None)])\n",
      "false\n"
     ]
    }
   ],
   "source": [
    "#65. Python | Check order of character in string using OrderedDict( ) \n",
    "# from collections import OrderedDict\n",
    "\n",
    "# def checkOrder(input, pattern):\n",
    "#     # create empty OrderedDict\n",
    "#     # output will be like {'a': eNone,'b': None, 'c': None}\n",
    "#     dict = OrderedDict.fromkeys(input)\n",
    "#     print(dict)\n",
    "\n",
    "#     # traverse generated OrderedDict parallel with\n",
    "#     # pattern string to check if order of characters\n",
    "#     # are same or not\n",
    "#     ptrlen = 0\n",
    "#     for key, value in dict.items():\n",
    "#         if (key == pattern[ptrlen]):\n",
    "#             ptrlen = ptrlen + 1\n",
    "\n",
    "#         # check if we have traverse complete\n",
    "#         # pattern string\n",
    "#         if (ptrlen == (len(pattern))):\n",
    "#             return 'true'\n",
    "\n",
    "#     # if we come out from for loop that means\n",
    "#     # order was mismatched\n",
    "#     return 'false'\n",
    "\n",
    "# if __name__ == \"__main__\":\n",
    "#     input = 'engineers rock'\n",
    "#     pattern = 'eior'\n",
    "#     print(checkOrder(input, pattern))"
   ]
  },
  {
   "cell_type": "code",
   "execution_count": 48,
   "id": "60ec8b58",
   "metadata": {},
   "outputs": [
    {
     "name": "stdout",
     "output_type": "stream",
     "text": [
      "['top', 'pot', 'listen', 'silent', 'agenta', 'magneta', 'magneta']\n",
      "['opt', 'opt', 'eilnst', 'eilnst', 'aaegnt', 'aaegmnt', 'aaegmnt']\n",
      "Counter({'opt': 2, 'eilnst': 2, 'aaegmnt': 2, 'aaegnt': 1})\n",
      "2\n"
     ]
    }
   ],
   "source": [
    "#66]Python Counter to find the size of largest subset of anagram words\n",
    "# from collections import Counter\n",
    "# def maxAnagramSize(input):\n",
    "#     # split input string separated by space\n",
    "#     input = input.split(\" \")\n",
    "\n",
    "#     # sort each string in given list of strings\n",
    "#     for i in range(0, len(input)):\n",
    "#         input[i] = ''.join(sorted(input[i]))\n",
    "\n",
    "#     # now create dictionary using counter method\n",
    "#     # which will have strings as key and their\n",
    "#     # frequencies as value\n",
    "#     freqDict = Counter(input)\n",
    "    \n",
    "#     # get maximum value of frequency\n",
    "#     print(max(freqDict.values()))\n",
    "#     print(max(freqDict.items()))\n",
    "\n",
    "\n",
    "# if __name__ == \"__main__\":\n",
    "#     input = 'ant magenta magnate tan gnamate'\n",
    "#     maxAnagramSize(input)\n",
    "    \n",
    "\n",
    "#2] method    \n",
    "# from collections import Counter\n",
    "# def check(s):\n",
    "#     lst = s.split()\n",
    "#     print(lst)\n",
    "#     for i in range(0,len(lst)):\n",
    "#         lst[i] = ''.join(sorted(lst[i]))\n",
    "#     print(lst)\n",
    "\n",
    "#     d = Counter(lst)\n",
    "#     print(d)\n",
    "#     print(max(d.values()))\n",
    "\n",
    "# s = \"top pot listen silent agenta magneta magneta  \"\n",
    "# check(s)\n"
   ]
  },
  {
   "cell_type": "code",
   "execution_count": 51,
   "id": "dd9b476f",
   "metadata": {},
   "outputs": [
    {
     "name": "stdout",
     "output_type": "stream",
     "text": [
      "ABCDEF\n"
     ]
    }
   ],
   "source": [
    "#67]Remove all duplicates words from a given sentence:\n",
    "#1]using for loop\n",
    "# str1 = \"hello how are you hello\"\n",
    "# str2 = str1.split(\" \")\n",
    "# print(\"The original sentence is:\",str1)\n",
    "# list1 = []\n",
    "# for i in str2:\n",
    "#     if i not in list1:\n",
    "#         list1.append(i)\n",
    "\n",
    "#     output= \" \".join(list1)\t\n",
    "# print(\"The duplicate free sentence is:\",output)\n",
    "\n",
    "#2]using inbult function\n",
    "# a = \"hello how are you hello\"\n",
    "# print(' '.join(dict.fromkeys(a.split())))\n",
    "\n",
    "#3]using another method\n",
    "# str1 = 'ABBCCDDDDEEF'\n",
    "# output = ''\n",
    "# for ch in str1:\n",
    "#     if ch not in output:\n",
    "#         output = output + ch\n",
    "# print(output)\n",
    "\n",
    "#4]anther method\n",
    "# s = 'AABCCCDEEF'\n",
    "# s1 = set(s)\n",
    "# output = ''.join(s1)\n",
    "# print(output)"
   ]
  },
  {
   "cell_type": "code",
   "execution_count": 55,
   "id": "d0585ec7",
   "metadata": {},
   "outputs": [
    {
     "ename": "TypeError",
     "evalue": "'dict' object is not callable",
     "output_type": "error",
     "traceback": [
      "\u001b[1;31m---------------------------------------------------------------------------\u001b[0m",
      "\u001b[1;31mTypeError\u001b[0m                                 Traceback (most recent call last)",
      "\u001b[1;32m<ipython-input-55-b407058ecc63>\u001b[0m in \u001b[0;36m<module>\u001b[1;34m\u001b[0m\n\u001b[0;32m     36\u001b[0m         \u001b[0mstr1\u001b[0m \u001b[1;33m=\u001b[0m \u001b[1;34m'abcdef'\u001b[0m\u001b[1;33m\u001b[0m\u001b[1;33m\u001b[0m\u001b[0m\n\u001b[0;32m     37\u001b[0m         \u001b[0mk\u001b[0m \u001b[1;33m=\u001b[0m \u001b[1;36m1\u001b[0m\u001b[1;33m\u001b[0m\u001b[1;33m\u001b[0m\u001b[0m\n\u001b[1;32m---> 38\u001b[1;33m         \u001b[0mmirrorChars\u001b[0m\u001b[1;33m(\u001b[0m\u001b[0mstr1\u001b[0m\u001b[1;33m,\u001b[0m\u001b[0mk\u001b[0m\u001b[1;33m)\u001b[0m\u001b[1;33m\u001b[0m\u001b[1;33m\u001b[0m\u001b[0m\n\u001b[0m",
      "\u001b[1;32m<ipython-input-55-b407058ecc63>\u001b[0m in \u001b[0;36mmirrorChars\u001b[1;34m(str1, k)\u001b[0m\n\u001b[0;32m     20\u001b[0m         \u001b[0moriginal\u001b[0m \u001b[1;33m=\u001b[0m \u001b[1;34m'abcdefghijklmnopqsturvwxyz'\u001b[0m\u001b[1;33m\u001b[0m\u001b[1;33m\u001b[0m\u001b[0m\n\u001b[0;32m     21\u001b[0m         \u001b[0mreverse\u001b[0m \u001b[1;33m=\u001b[0m \u001b[0moriginal\u001b[0m\u001b[1;33m[\u001b[0m\u001b[1;33m:\u001b[0m\u001b[1;33m:\u001b[0m\u001b[1;33m-\u001b[0m\u001b[1;36m1\u001b[0m\u001b[1;33m]\u001b[0m\u001b[1;33m\u001b[0m\u001b[1;33m\u001b[0m\u001b[0m\n\u001b[1;32m---> 22\u001b[1;33m         \u001b[0mdict1\u001b[0m \u001b[1;33m=\u001b[0m \u001b[0mdict\u001b[0m\u001b[1;33m(\u001b[0m\u001b[0mzip\u001b[0m\u001b[1;33m(\u001b[0m\u001b[0moriginal\u001b[0m\u001b[1;33m,\u001b[0m\u001b[0mreverse\u001b[0m\u001b[1;33m)\u001b[0m\u001b[1;33m)\u001b[0m\u001b[1;33m\u001b[0m\u001b[1;33m\u001b[0m\u001b[0m\n\u001b[0m\u001b[0;32m     23\u001b[0m \u001b[1;33m\u001b[0m\u001b[0m\n\u001b[0;32m     24\u001b[0m         \u001b[0ma\u001b[0m \u001b[1;33m=\u001b[0m \u001b[0mstr1\u001b[0m\u001b[1;33m[\u001b[0m\u001b[1;36m0\u001b[0m\u001b[1;33m:\u001b[0m\u001b[0mk\u001b[0m\u001b[1;33m-\u001b[0m\u001b[1;36m1\u001b[0m\u001b[1;33m]\u001b[0m\u001b[1;33m\u001b[0m\u001b[1;33m\u001b[0m\u001b[0m\n",
      "\u001b[1;31mTypeError\u001b[0m: 'dict' object is not callable"
     ]
    }
   ],
   "source": [
    "#68] Python Dictionary to find mirror characters in a string Counting the frequencies in a list using dictionary in Python \n",
    "# Mirror characters \n",
    "# abc = zyx\n",
    "\n",
    "#1] using for loop\n",
    "# import string\n",
    "# s = input(\"Enter the string for mirror caharcters:\")\n",
    "# alphabet = string.ascii_lowercase\n",
    "# rev = alphabet[::-1]\n",
    "# pswrd = \"\"\n",
    "# d = dict(zip(alphabet,rev))        #zip(key,values)\n",
    "# for i in s:\n",
    "#     pswrd = pswrd + d[i]\n",
    "# print(s)\n",
    "# print(pswrd)\n",
    "\n",
    "\n",
    "#2]another method\n",
    "# def mirrorChars(str1,k):\n",
    "# \toriginal = 'abcdefghijklmnopqsturvwxyz'\n",
    "# \treverse = original[::-1]\n",
    "# \tdict1 = dict(zip(original,reverse))\n",
    "\n",
    "# \ta = str1[0:k-1]\n",
    "# \t# print(a)\n",
    "# \tb = str1[k-1:]\n",
    "# \t# print(b)\n",
    "# \tmirror = ''\n",
    "\n",
    "# \tfor i in range(0,len(b)):\n",
    "# \t\tmirror = mirror + dict1[b[i]]\n",
    "\n",
    "# \tprint(a + mirror)\n",
    "\n",
    "# if __name__ == '__main__':\n",
    "# \tstr1 = 'abcdef'\n",
    "# \tk = 1 \n",
    "# \tmirrorChars(str1,k)"
   ]
  },
  {
   "cell_type": "code",
   "execution_count": null,
   "id": "e40358be",
   "metadata": {},
   "outputs": [],
   "source": [
    "#69]Python | Convert a list of Tuples into Dictionary\n",
    "#1]\n",
    "# x = [('Sachin', 10), ('MSD', 7), ('Kohli', 18), ('Rohit', 45)]\n",
    "# result = dict(x)\n",
    "# print(result)\n",
    "\n",
    "\n",
    "#2]\n",
    "# tuples = [('Sachin', 10), ('MSD', 7), ('Kohli', 18), ('Rohit', 45)]\n",
    "# results = {}\n",
    "# for (key,value) in tuples:\n",
    "# \tresults.setdefault(key,[]).append(value)\n",
    "# print(results)\n",
    "\n",
    "#3]\n",
    "# def Convert(tuple,dict):\n",
    "#    for key,value in tuple:\n",
    "#       dict.setdefault(key, []).append(value)\n",
    "#   return dict\n",
    "\n",
    "#4]\n",
    "# tuples = [('Sachin', 10), ('MSD', 7), ('Kohli', 18), ('Rohit', 45)]\n",
    "# dictionary = {}\n",
    "# print(Convert(tuples,dictionary))\t\t\n",
    "\n",
    "#4]\n",
    "# def Convert(tuple,dict1):\n",
    "#     dict1 = dict(tuple)\n",
    "#     return dict1\n",
    "\n",
    "# tuples = [('Sachin', 10), ('MSD', 7), ('Kohli', 18), ('Rohit', 45)]\n",
    "# dictionary = {}\n",
    "# print(Convert(tuples,dictionary))\n",
    "\n",
    "#5]\n",
    "# print(dict([('Sachin', 10), ('MSD', 7), ('Kohli', 18), ('Rohit', 45)]))"
   ]
  },
  {
   "cell_type": "code",
   "execution_count": 58,
   "id": "abafb3ab",
   "metadata": {},
   "outputs": [
    {
     "name": "stdout",
     "output_type": "stream",
     "text": [
      "not possible\n"
     ]
    }
   ],
   "source": [
    "#70]ython counter and dictionary intersection example (Make a string using deletion and rearrangement) \n",
    "#1] method\n",
    "from collections import Counter\n",
    "\n",
    "s1 = \"sushant\"\n",
    "s2 = \"asdfghhhdeklmnltyo\"\n",
    "\n",
    "# no of characters in s1 must be in s2\n",
    "# Occurence of each character in s1 must be equal or less in s2\n",
    "\n",
    "d1 = Counter(s1)\n",
    "d2 = Counter(s2)\n",
    "\n",
    "result = d1 & d2\n",
    "if (result == d1):\n",
    "    print(\"possible\")\n",
    "else:\n",
    "    print(\"not possible\")"
   ]
  },
  {
   "cell_type": "code",
   "execution_count": 60,
   "id": "64ebeaca",
   "metadata": {},
   "outputs": [
    {
     "ename": "TypeError",
     "evalue": "'str' object is not callable",
     "output_type": "error",
     "traceback": [
      "\u001b[1;31m---------------------------------------------------------------------------\u001b[0m",
      "\u001b[1;31mTypeError\u001b[0m                                 Traceback (most recent call last)",
      "\u001b[1;32m<ipython-input-60-af98f063fc1f>\u001b[0m in \u001b[0;36m<module>\u001b[1;34m\u001b[0m\n\u001b[0;32m      5\u001b[0m \u001b[1;31m# Finding Ordered Words In A Dictionary using Python Possible Words using given characters in Python\u001b[0m\u001b[1;33m\u001b[0m\u001b[1;33m\u001b[0m\u001b[1;33m\u001b[0m\u001b[0m\n\u001b[0;32m      6\u001b[0m \u001b[1;32mimport\u001b[0m \u001b[0mstring\u001b[0m\u001b[1;33m\u001b[0m\u001b[1;33m\u001b[0m\u001b[0m\n\u001b[1;32m----> 7\u001b[1;33m \u001b[0ms\u001b[0m \u001b[1;33m=\u001b[0m \u001b[0minput\u001b[0m\u001b[1;33m(\u001b[0m\u001b[1;34m\"enter the string:\"\u001b[0m\u001b[1;33m)\u001b[0m\u001b[1;33m\u001b[0m\u001b[1;33m\u001b[0m\u001b[0m\n\u001b[0m\u001b[0;32m      8\u001b[0m \u001b[0mlst\u001b[0m \u001b[1;33m=\u001b[0m \u001b[0mlist\u001b[0m\u001b[1;33m(\u001b[0m\u001b[0ms\u001b[0m\u001b[1;33m)\u001b[0m\u001b[1;33m\u001b[0m\u001b[1;33m\u001b[0m\u001b[0m\n\u001b[0;32m      9\u001b[0m \u001b[0mlst\u001b[0m\u001b[1;33m.\u001b[0m\u001b[0msort\u001b[0m\u001b[1;33m(\u001b[0m\u001b[1;33m)\u001b[0m\u001b[1;33m\u001b[0m\u001b[1;33m\u001b[0m\u001b[0m\n",
      "\u001b[1;31mTypeError\u001b[0m: 'str' object is not callable"
     ]
    }
   ],
   "source": [
    "#71]Python dictionary, set and counter to check if frequencies can become same Scraping And \n",
    "#Finding Ordered Words In A Dictionary using Python Possible Words using given characters in Python\n",
    "\n",
    "\n",
    "# Finding Ordered Words In A Dictionary using Python Possible Words using given characters in Python\n",
    "s = input(\"enter the string:\")\n",
    "lst = list(s)\n",
    "lst.sort()\n",
    "check =''.join(lst)\n",
    "if (s == check):\n",
    "    print(\"TRUE\")\n",
    "else:\n",
    "    print(\"FALSE\")"
   ]
  },
  {
   "cell_type": "code",
   "execution_count": null,
   "id": "67f39fc1",
   "metadata": {},
   "outputs": [],
   "source": []
  }
 ],
 "metadata": {
  "kernelspec": {
   "display_name": "Python 3",
   "language": "python",
   "name": "python3"
  },
  "language_info": {
   "codemirror_mode": {
    "name": "ipython",
    "version": 3
   },
   "file_extension": ".py",
   "mimetype": "text/x-python",
   "name": "python",
   "nbconvert_exporter": "python",
   "pygments_lexer": "ipython3",
   "version": "3.9.2"
  }
 },
 "nbformat": 4,
 "nbformat_minor": 5
}
