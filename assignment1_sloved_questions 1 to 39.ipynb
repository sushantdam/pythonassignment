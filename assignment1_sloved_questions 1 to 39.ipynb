{
 "cells": [
  {
   "cell_type": "code",
   "execution_count": 4,
   "id": "6475886a",
   "metadata": {},
   "outputs": [
    {
     "name": "stdout",
     "output_type": "stream",
     "text": [
      "enter the number: 12\n",
      "factorial:  479001600\n"
     ]
    }
   ],
   "source": [
    "#1]A)Python Program for factorial of a number with and without recursion\n",
    "#without recursion\n",
    "n = int(input(\"enter the number: \"))\n",
    "fact = 1\n",
    "if n<0:\n",
    "    print(\"factorial doesn't exist for negative number\")\n",
    "else:\n",
    "    for i in range(1,n+1):\n",
    "        fact=fact*i\n",
    "    print(\"factorial: \",fact)"
   ]
  },
  {
   "cell_type": "code",
   "execution_count": 5,
   "id": "3885bce4",
   "metadata": {},
   "outputs": [
    {
     "name": "stdout",
     "output_type": "stream",
     "text": [
      "enter the number: 2\n",
      "factorial:  2\n"
     ]
    }
   ],
   "source": [
    "#1]B)Python Program for factorial of a number with and without recursion\n",
    "#without recursion\n",
    "n = int(input(\"enter the number: \"))\n",
    "fact = 1\n",
    "if n<0:\n",
    "    print(\"factorial doesn't exist for negative number\")\n",
    "else:\n",
    "    for i in range(1,n+1):\n",
    "        fact=fact*i\n",
    "    print(\"factorial: \",fact)"
   ]
  },
  {
   "cell_type": "code",
   "execution_count": 6,
   "id": "60d494ce",
   "metadata": {},
   "outputs": [
    {
     "name": "stdout",
     "output_type": "stream",
     "text": [
      "enter the number: 4\n",
      "factorial:  24\n"
     ]
    }
   ],
   "source": [
    "#1]C)without recursion another method\n",
    "n = int(input(\"enter the number: \"))\n",
    "fact=1\n",
    "while n>0:\n",
    "    fact=fact*n\n",
    "    n=n-1\n",
    "print(\"factorial: \",fact)"
   ]
  },
  {
   "cell_type": "code",
   "execution_count": 7,
   "id": "5746adbf",
   "metadata": {},
   "outputs": [
    {
     "name": "stdout",
     "output_type": "stream",
     "text": [
      "enter the number: 371\n",
      "this is armstrog number 371\n"
     ]
    }
   ],
   "source": [
    "#2]Python Program to check Armstrong Number\n",
    "n = int(input(\"enter the number: \"))\n",
    "sum = 0\n",
    "temp = n\n",
    "while temp > 0:\n",
    "    digit = temp % 10\n",
    "    sum += digit**3\n",
    "    temp //= 10\n",
    "if n == sum:\n",
    "    print(\"this is armstrog number\",n)\n",
    "else:\n",
    "    print(\"this is not armstrog number\",n)\n",
    "    \n",
    "    "
   ]
  },
  {
   "cell_type": "code",
   "execution_count": 18,
   "id": "baca538a",
   "metadata": {},
   "outputs": [
    {
     "name": "stdout",
     "output_type": "stream",
     "text": [
      "enter the number: 1\n",
      "1\n",
      "1\n"
     ]
    }
   ],
   "source": [
    "#4]Python Program for Fibonacci numbers\n",
    "def fibo(n):\n",
    "    if n == 0:\n",
    "        return 0\n",
    "    elif n == 1 or n == 2:\n",
    "        return 1\n",
    "    else:\n",
    "        return (fibo(n-1)+fibo(n-2))\n",
    "n = int(input(\"enter the number: \"))\n",
    "for i in range (n):\n",
    "    print(fibo(n))\n",
    "f= fibo(n)\n",
    "print(n)\n"
   ]
  },
  {
   "cell_type": "code",
   "execution_count": 25,
   "id": "026b70a6",
   "metadata": {},
   "outputs": [
    {
     "name": "stdout",
     "output_type": "stream",
     "text": [
      "sum of array:  15\n"
     ]
    }
   ],
   "source": [
    "#5]A]Python Program to find sum of array (using multiple approach)\n",
    "def sum(array):\n",
    "    sum = 0\n",
    "    for i in array:\n",
    "        sum = sum+i\n",
    "    return (sum)\n",
    "array=[]\n",
    "array=[1,2,3,4,5]\n",
    "n  = sum(array)\n",
    "print(\"sum of array: \",n)"
   ]
  },
  {
   "cell_type": "code",
   "execution_count": 28,
   "id": "f89068e8",
   "metadata": {},
   "outputs": [
    {
     "name": "stdout",
     "output_type": "stream",
     "text": [
      "sum of array:  15\n"
     ]
    }
   ],
   "source": [
    "#5]B]another method sum() is in inbuilt function\n",
    "a=[]\n",
    "a=[1,2,3,4,5]\n",
    "s=sum(a)\n",
    "print(\"sum of array: \",s)"
   ]
  },
  {
   "cell_type": "code",
   "execution_count": 53,
   "id": "ca5feb9f",
   "metadata": {},
   "outputs": [
    {
     "name": "stdout",
     "output_type": "stream",
     "text": [
      "largest number in array:  86\n"
     ]
    }
   ],
   "source": [
    "#6]Python Program to find largest element in an array\n",
    "list1=[2,35,46,76,81,54,3,6,86]\n",
    "def largest_num(list1,n):\n",
    "    max=list1[0]\n",
    "    for i in range(1,n):\n",
    "        if (list1[i] > max):\n",
    "            max=list1[i]\n",
    "    return max\n",
    "n=len(list1)\n",
    "p=largest_num(list1,n)\n",
    "print(\"largest number in array: \",p)\n"
   ]
  },
  {
   "cell_type": "code",
   "execution_count": null,
   "id": "91aa19db",
   "metadata": {},
   "outputs": [],
   "source": [
    "#7] function to rotate array by d elements using temp array\n",
    "#1]\n",
    "# def rotateArray(arr, n, d):\n",
    "#     temp = []\n",
    "#     i = 0\n",
    "#     while (i < d):\n",
    "#         temp.append(arr[i])\n",
    "#         i = i + 1\n",
    "#     i = 0\n",
    "#     while (d < n):\n",
    "#         arr[i] = arr[d]\n",
    "#         i = i + 1\n",
    "#         d = d + 1\n",
    "#     arr[:] = arr[: i] + temp\n",
    "#     return arr\n",
    "\n",
    "# arr = [1, 2, 3, 4, 5, 6, 7]\n",
    "# print(\"Array after left rotation is: \", end=' ')\n",
    "# print(rotateArray(arr, len(arr), 3))\n",
    "\n",
    "# #2]slicing approch to rotate the array\n",
    "# def rotateList(arr,d,n):\n",
    "#     arr[:]=arr[d:n]+arr[0:d]\n",
    "#     return arr\n",
    "\n",
    "# arr = [1, 2, 3, 4, 5, 6]\n",
    "# print(arr)\n",
    "# print(\"Rotated list is\")\n",
    "# print(rotateList(arr,2,len(arr)))\n",
    "\n",
    "# arr = [1,2,3,4,5]\n",
    "# n=1\n",
    "# for i in range (n):\n",
    "#     temp=arr[0]\n",
    "#     for k in range (len(arr)-1):\n",
    "#         arr[i]=arr[i+1]\n",
    "#     arr[len(arr)-1]=temp\n",
    "        \n",
    "# print(arr)  "
   ]
  },
  {
   "cell_type": "code",
   "execution_count": null,
   "id": "c233b013",
   "metadata": {},
   "outputs": [],
   "source": [
    "#8] Python program for reversal algorithm of array rotation\n",
    "\n",
    "# Function to reverse arr[] from index start to end\n",
    "def rverseArray(arr, start, end):\n",
    "    while (start < end):\n",
    "        temp = arr[start]\n",
    "        arr[start] = arr[end]\n",
    "        arr[end] = temp\n",
    "        start += 1\n",
    "        end = end-1\n",
    "\n",
    "# Function to left rotate arr[] of size n by d\n",
    "def leftRotate(arr, d):\n",
    "    n = len(arr)\n",
    "    rverseArray(arr, 0, d-1)\n",
    "    rverseArray(arr, d, n-1)\n",
    "    rverseArray(arr, 0, n-1)\n",
    "\n",
    "# Function to print an array\n",
    "def printArray(arr):\n",
    "    for i in range(0, len(arr)):\n",
    "        print (arr[i],end=\" \")\n",
    "\n",
    "\n",
    "arr = [1, 2, 3, 4, 5, 6, 7]\n",
    "leftRotate(arr, 2) # Rotate array by 2\n",
    "printArray(arr)\n"
   ]
  },
  {
   "cell_type": "code",
   "execution_count": 1,
   "id": "98a2a113",
   "metadata": {},
   "outputs": [
    {
     "name": "stdout",
     "output_type": "stream",
     "text": [
      "3 45 67 87 96 1 "
     ]
    }
   ],
   "source": [
    "#9]Python Program to Split the array and add the first part to the end \n",
    "list1 = [1,3,45,67,87,96]\n",
    "n = len(list1)\n",
    "position = 1\n",
    "def splitarray(list1, n, k): \n",
    "    for i in range(0, k): \n",
    "        x = list1[0]\n",
    "        for j in range(0, n-1):\n",
    "            list1[j] = list1[j + 1]\n",
    "         \n",
    "        list1[n-1] = x\n",
    "         \n",
    "splitarray(list1, n, position)\n",
    "for i in range(0, n):\n",
    "    print(list1[i], end = ' ')\n",
    " \n"
   ]
  },
  {
   "cell_type": "code",
   "execution_count": null,
   "id": "e821a6e3",
   "metadata": {},
   "outputs": [],
   "source": [
    "#10] Python3 program to find remainder when all array elements are multiplied.\n",
    "\n",
    "def findremainder(arr, lens, n):\n",
    "    mul = 1\n",
    "    for i in arr:\n",
    "        mul = mul *(i%n) \n",
    "    return mul % n\n",
    "\n",
    "arr = [100, 10, 5, 25, 35, 14]\n",
    "lens = len(arr)\n",
    "n = 11\n",
    "print(findremainder(arr, lens, n))\n",
    "\n"
   ]
  },
  {
   "cell_type": "code",
   "execution_count": 120,
   "id": "0ec57b62",
   "metadata": {},
   "outputs": [
    {
     "name": "stdout",
     "output_type": "stream",
     "text": [
      "[89, 25, 16, 35, 56, 23]\n"
     ]
    }
   ],
   "source": [
    "#11]A]Python program to swap two elements in a list\n",
    "List = [23,25,16,35,56,89]\n",
    "def swapelement(list, pos1, pos2):\n",
    "    get = list[pos1], list[pos2]\n",
    "    list[pos2], list[pos1] = get\n",
    "      \n",
    "    return list\n",
    "pos1, pos2  = 1,6\n",
    "print(swapelement(List, pos1-1, pos2-1))"
   ]
  },
  {
   "cell_type": "code",
   "execution_count": 77,
   "id": "db2e2502",
   "metadata": {},
   "outputs": [
    {
     "name": "stdout",
     "output_type": "stream",
     "text": [
      "[2, 1, 3, 4, 5, 6, 7, 8]\n"
     ]
    }
   ],
   "source": [
    "#11]B]another method using for loop\n",
    "list1=[1,2,3,4,5,6,7,8]\n",
    "for i in range (0,2,2):#changeing range\n",
    "    swap_s=list1[i],list1[i+1]\n",
    "    list1[i+1],list1[i]=swap_s\n",
    "print(list1)\n"
   ]
  },
  {
   "cell_type": "code",
   "execution_count": 81,
   "id": "01078ef9",
   "metadata": {},
   "outputs": [
    {
     "name": "stdout",
     "output_type": "stream",
     "text": [
      "[97, 92, 93, 94, 95, 96, 91]\n"
     ]
    }
   ],
   "source": [
    "#12]Python program to swap two elements in a list\n",
    "list1=[91,92,93,94,95,96,97]\n",
    "l = len(list1)\n",
    "list1[0],list1[l-1]=list1[l-1],list1[0]\n",
    "print(list1)"
   ]
  },
  {
   "cell_type": "code",
   "execution_count": 16,
   "id": "0859ff68",
   "metadata": {},
   "outputs": [
    {
     "name": "stdout",
     "output_type": "stream",
     "text": [
      "enter word u want to ramove: test\n",
      "enter its occurrence: 1\n",
      "['r', 'p', 'e', 'r', 'test', 't', 'test', 'd', 'u']\n"
     ]
    }
   ],
   "source": [
    "#13]Python program to remove Nth occurrence of the given word\n",
    "list1=[\"r\",\"p\",\"test\",\"e\",\"r\",\"test\",\"t\",\"test\",\"d\",\"u\"]\n",
    "name=input(\"enter word u want to ramove: \")\n",
    "occurrence = int(input(\"enter its occurrence: \"))\n",
    "index = 0\n",
    "count = 0\n",
    "for i in list1:\n",
    "    index += 1\n",
    "    if i == name:\n",
    "        count += 1\n",
    "        if count == occurrence:\n",
    "            list1.pop(index-1)\n",
    "print(list1)\n",
    "\n"
   ]
  },
  {
   "cell_type": "code",
   "execution_count": 100,
   "id": "b29e4f77",
   "metadata": {},
   "outputs": [
    {
     "name": "stdout",
     "output_type": "stream",
     "text": [
      "length of list2:  8\n"
     ]
    }
   ],
   "source": [
    "#14]Python | Ways to find length of list\n",
    "#using len() function\n",
    "# list1=[1,2,3,4,5,6,7]\n",
    "# a=len(list1)\n",
    "# print(\"length of list\",a)\n",
    "\n",
    "#using loop\n",
    "# count=0\n",
    "# for i in list1:\n",
    "#     count+=1\n",
    "# print(\"length of list\",count)\n",
    "\n",
    "#using user define function\n",
    "def len_of_list(list2):\n",
    "    count=0\n",
    "    for i in list:\n",
    "        count+=1\n",
    "    return count\n",
    "list2=[1,2,3,4,5,6,7]\n",
    "b=len_of_list(list2)\n",
    "print(\"length of list2: \",b)\n",
    "    \n",
    "    \n",
    "\n",
    "               "
   ]
  },
  {
   "cell_type": "code",
   "execution_count": 8,
   "id": "94de8636",
   "metadata": {},
   "outputs": [
    {
     "name": "stdout",
     "output_type": "stream",
     "text": [
      "element exists in list\n"
     ]
    }
   ],
   "source": [
    "#15. Python | Ways to check if element exists in list\n",
    "#using for loop \n",
    "# list1=[1,2,3,4,5,6]\n",
    "# for i in list1:\n",
    "#     if (i==6):\n",
    "#         print(\"element exists\")\n",
    " \n",
    "list1=[1,5,2,5,3,4,5,6]\n",
    "i=list1.count(2)\n",
    "#print(list2)\n",
    "if i > 0:\n",
    "    print(\"element exists in list\")\n",
    "else:\n",
    "    print(\"element does not exists in list\")\n",
    "\n"
   ]
  },
  {
   "cell_type": "code",
   "execution_count": 110,
   "id": "c1138839",
   "metadata": {},
   "outputs": [
    {
     "name": "stdout",
     "output_type": "stream",
     "text": [
      "[]\n",
      "[]\n",
      "[]\n",
      "[]\n",
      "[]\n"
     ]
    }
   ],
   "source": [
    "#16]Different ways to clear a list in Python\n",
    "#1] using clear()function\n",
    "list1=[1,2,3,4,5,6,7,8]\n",
    "list1.clear()\n",
    "print(list1)\n",
    "\n",
    "\n",
    "#2] using loop and pop\n",
    "list1=[1,2,3,4,5,6,7,8]\n",
    "for i in range(len(list1)):\n",
    "    list1.pop()\n",
    "print(list1)\n",
    "\n",
    "#3]using *\n",
    "list1=[1,2,3,4,5,6,7,8]\n",
    "print(list1*0)\n",
    "\n",
    "#4] using type()\n",
    "list1=[1,2,3,4,5,6,7,8]\n",
    "print(type(list1)())\n",
    "\n",
    "#5]using del\n",
    "list1=[1,2,3,4,5,6,7,8]\n",
    "del list1[:]\n",
    "print(list1)\n",
    "\n"
   ]
  },
  {
   "cell_type": "code",
   "execution_count": 117,
   "id": "2c469911",
   "metadata": {},
   "outputs": [
    {
     "name": "stdout",
     "output_type": "stream",
     "text": [
      "number in list1: 6\n",
      "element exists\n",
      "element exists\n"
     ]
    }
   ],
   "source": [
    "#15.Python | Ways to check if element exists in list\n",
    "#using in\n",
    "list1=[1,2,3,4,5,6,7]\n",
    "b=int(input(\"number in list1: \"))\n",
    "for i in list1:\n",
    "    if i == b:\n",
    "        print(\"element exists\")\n",
    "    \n",
    "\n",
    "    \n",
    "#using in\n",
    "if 6 in list1:\n",
    "    print(\"element exists\")"
   ]
  },
  {
   "cell_type": "code",
   "execution_count": 13,
   "id": "8fe0e65d",
   "metadata": {},
   "outputs": [
    {
     "name": "stdout",
     "output_type": "stream",
     "text": [
      "[6, 5, 4, 3, 2, 1]\n"
     ]
    }
   ],
   "source": [
    "#17]Python | Reversing a List Python\n",
    "#1] using built in function\n",
    "# list1=[1,2,3,4,5,6]\n",
    "# list1.reverse()\n",
    "# print(list1)\n",
    "\n",
    "\n",
    "#2] using slicing method\n",
    "# list1=[1,2,3,4,5,6]\n",
    "# newlist=list1[ ::-1]\n",
    "# print(newlist)\n",
    "\n",
    "#3] using user define function\n",
    "# list1=[1,2,3,4,5,6]\n",
    "# def test(list1):\n",
    "#     i = reversed(list1)\n",
    "#     return (i)\n",
    "# c=(test(list1))\n",
    "# print(list(c))\n",
    "\n",
    "#4)using for loop\n",
    "# list1=[1,2,3,4,5,6]\n",
    "# def test(list1):\n",
    "#     newlis=[]\n",
    "#     for i in reversed(list1):\n",
    "#         newlis.append(i)\n",
    "#     return newlis\n",
    "# c=test(list1)\n",
    "# print(c)\n",
    "\n",
    "        \n",
    "\n"
   ]
  },
  {
   "cell_type": "code",
   "execution_count": 7,
   "id": "6430efe3",
   "metadata": {},
   "outputs": [
    {
     "name": "stdout",
     "output_type": "stream",
     "text": [
      "[1, 2, 3, 4, 5, 6, 7, 8]\n"
     ]
    }
   ],
   "source": [
    "#18]Cloning or Copying a list Python \n",
    "#1]Using bilt-in method copy()\n",
    "list1=[1,2,3,4,5,6,7,8]\n",
    "list2=list1.copy()\n",
    "print(list2)\n",
    "\n",
    "#2]Using append()\n",
    "list1=[1,2,3,4,5,6,7,8]\n",
    "def clone(list1):\n",
    "    list2=[]\n",
    "    list2.extend(list1)\n",
    "    return list2\n",
    "list2=clone(list1)\n",
    "print(list1)\n",
    "print(list2)\n",
    "\n",
    "#3]using list method\n",
    "list1=[1,2,3,4,5,6,7,8]\n",
    "list2=[]\n",
    "list2=list(list1)\n",
    "print(list2)\n"
   ]
  },
  {
   "cell_type": "code",
   "execution_count": 2,
   "id": "8e04133f",
   "metadata": {},
   "outputs": [
    {
     "name": "stdout",
     "output_type": "stream",
     "text": [
      "Y has occurrred:  5\n"
     ]
    }
   ],
   "source": [
    "#19]Count occurrences of an element in a list\n",
    "#1] using count function\n",
    "# list1=[\"A\",\"C\",\"A\",\"Y\",\"E\",\"A\",\"R\",\"A\",\"Y\",\"A\"]\n",
    "# list1.count(\"A\")\n",
    "\n",
    "#2] using function \n",
    "list1=[\"A\",\"C\",\"A\",\"Y\",\"E\",\"A\",\"R\",\"A\",\"Y\",\"A\"]\n",
    "def sushant(list1,a):\n",
    "    count=0\n",
    "    for i in list1:\n",
    "        if (i==a):\n",
    "            count=count+1\n",
    "    return count\n",
    "a=\"A\"\n",
    "print(\"Y has occurrred: \",sushant(list1,a))"
   ]
  },
  {
   "cell_type": "code",
   "execution_count": 10,
   "id": "aaf150eb",
   "metadata": {},
   "outputs": [
    {
     "name": "stdout",
     "output_type": "stream",
     "text": [
      "21\n"
     ]
    }
   ],
   "source": [
    "#20] Python program to find sum of elements in list\n",
    "#1] using sum() function\n",
    "# list1=[1,2,3,4,5]\n",
    "# sum=0\n",
    "# for i in list1:\n",
    "#     sum+=i\n",
    "# print(sum)\n",
    "\n",
    "#2] using inbuilt sum function\n",
    "# list1=[1,2,3,4,5,6]\n",
    "# s=sum(list1)\n",
    "# print(s)\n"
   ]
  },
  {
   "cell_type": "code",
   "execution_count": 28,
   "id": "f92c58a7",
   "metadata": {},
   "outputs": [
    {
     "name": "stdout",
     "output_type": "stream",
     "text": [
      "24\n",
      "24\n"
     ]
    }
   ],
   "source": [
    "#21]Python | Multiply all numbers in the list \n",
    "#1] using user define function\n",
    "list1=[1,2,3,4]\n",
    "def multi(list1):\n",
    "    a=1\n",
    "    for i in list1:\n",
    "        a=a*i\n",
    "    return a\n",
    "print(multi(list1))\n",
    "\n",
    "#2] using reduce function\n",
    "from functools import reduce\n",
    "list1=[1,2,3,4]\n",
    "print(reduce(lambda x,y:x*y,list1))"
   ]
  },
  {
   "cell_type": "code",
   "execution_count": 3,
   "id": "35595732",
   "metadata": {},
   "outputs": [
    {
     "name": "stdout",
     "output_type": "stream",
     "text": [
      "smallest number in list:  1\n",
      "smallest number in list:  2\n"
     ]
    }
   ],
   "source": [
    "#22]Python program to find smallest number in a list \n",
    "#1]using sort() method\n",
    "list1=[2,4,5,6,7,1,8]\n",
    "list1.sort()\n",
    "\n",
    "print(\"smallest number in list: \",list1[0])\n",
    "\n",
    "#2]using for loop\n",
    "list1=[3,4,5,2,6,7,8]\n",
    "mim=list1[0]\n",
    "for i in range(len(list1)):\n",
    "    if list1[i]<mim:\n",
    "        mim=list1[i]        \n",
    "print(\"smallest number in list: \",mim)"
   ]
  },
  {
   "cell_type": "code",
   "execution_count": 38,
   "id": "4380bf82",
   "metadata": {},
   "outputs": [
    {
     "name": "stdout",
     "output_type": "stream",
     "text": [
      "largest number in list:  9\n",
      "largest number in list:  98\n"
     ]
    }
   ],
   "source": [
    "#23]Python program to find largest number in a list\n",
    "#using sort() method\n",
    "list1=[2,4,5,8,9,6,7,1]\n",
    "list1.sort()\n",
    "print(\"largest number in list: \",list1[-1])\n",
    "\n",
    "#using for loop\n",
    "list1=[31,56,78,98,45,34]\n",
    "mix=list1[-1]\n",
    "for i in range(len(list1)):\n",
    "    if list1[i]>mix:\n",
    "        mix=list1[i]\n",
    "print(\"largest number in list: \",mix)\n",
    "\n",
    "\n"
   ]
  },
  {
   "cell_type": "code",
   "execution_count": 47,
   "id": "1f69df4f",
   "metadata": {},
   "outputs": [
    {
     "name": "stdout",
     "output_type": "stream",
     "text": [
      "90\n"
     ]
    }
   ],
   "source": [
    "#24]Python program to find second largest number in a list\n",
    "#1] sort method\n",
    "list1=[23,4,5,67,89,12,34,56,33,45,24]\n",
    "list1.sort()\n",
    "print(\"second largest number in list: \",list1[-2])\n",
    "\n",
    "#2]using loop\n",
    "list1=[1,2,34,45,78,56,46,90,67,56,87,35,23,76]\n",
    "semi=list1[-1]\n",
    "for i in range(len(list1)):\n",
    "    if list1[i]>semi:\n",
    "        semi=list1[i]\n",
    "print(semi)\n",
    "    "
   ]
  },
  {
   "cell_type": "code",
   "execution_count": 63,
   "id": "09d0920b",
   "metadata": {},
   "outputs": [
    {
     "name": "stdout",
     "output_type": "stream",
     "text": [
      "[2, 4, 6, 8]\n",
      "[2, 4, 6, 8]\n"
     ]
    }
   ],
   "source": [
    "#25]Python program to print even numbers in a list\n",
    "#1]using for loop\n",
    "# list1=[1,2,3,4,5,6,7,8,9]\n",
    "# for i in list1:\n",
    "#     if i%2==0:\n",
    "#         print(i,end=\" \")\n",
    "\n",
    "#2] using lambda expression\n",
    "list1=[1,2,3,4,5,6,7,8,9]\n",
    "even_numbers=(filter(lambda x: x%2 == 0,list1))\n",
    "print(list(even_numbers))\n",
    "\n",
    "#3]using list comprehension\n",
    "list1=[1,2,3,4,5,6,7,8,9]\n",
    "even_number=[i for i in list1 if i%2 ==0]\n",
    "print(even_number)\n",
    "\n",
    "\n"
   ]
  },
  {
   "cell_type": "code",
   "execution_count": 65,
   "id": "9b94b11a",
   "metadata": {},
   "outputs": [
    {
     "name": "stdout",
     "output_type": "stream",
     "text": [
      "[2, 4, 6]\n"
     ]
    }
   ],
   "source": [
    "#25]4] using function \n",
    "\n",
    "def test(data):\n",
    "    if data%2==0:\n",
    "        return \"its even number\"\n",
    "list1=[1,2,3,4,5,6,7]\n",
    "temp=list(filter(test,list1))\n",
    "print(temp)"
   ]
  },
  {
   "cell_type": "code",
   "execution_count": 72,
   "id": "1acb52a5",
   "metadata": {},
   "outputs": [
    {
     "name": "stdout",
     "output_type": "stream",
     "text": [
      "[1, 3, 5, 7, 9]\n",
      "[1, 3, 5, 7, 9]\n"
     ]
    }
   ],
   "source": [
    "#26] Python program to print odd numbers in a List\n",
    "#1] using for loop\n",
    "# list1=[1,2,3,4,5,6,7,8,9]\n",
    "# for i in list1:\n",
    "#     if i%2!=0:\n",
    "#         print(i,end=\" \")\n",
    "\n",
    "        \n",
    "#2] using lambda \n",
    "list1=[1,2,3,4,5,6,7,8,9]\n",
    "odd_number=filter(lambda x: x%2!=0,list1)\n",
    "print(list(odd_number))\n",
    "\n",
    "#3] using user define function\n",
    "def test(data):\n",
    "    if data%2!=0:\n",
    "        return \"its odd number\"\n",
    "\n",
    "list1=[1,2,3,4,5,6,7,8,9]\n",
    "temp=list(filter(test,list1))\n",
    "print(temp)"
   ]
  },
  {
   "cell_type": "code",
   "execution_count": 77,
   "id": "87d8662d",
   "metadata": {},
   "outputs": [
    {
     "name": "stdout",
     "output_type": "stream",
     "text": [
      "Enter the number: 1\n",
      "Enter the number: 20\n",
      "2 4 6 8 10 12 14 16 18 20 "
     ]
    }
   ],
   "source": [
    "#27]Python program to print all even numbers in a range\n",
    "#using for loop \n",
    "lower=int(input(\"Enter the number: \"))\n",
    "upper=int(input(\"Enter the number: \"))\n",
    "for n in range(lower,upper+1):\n",
    "    if n%2==0:\n",
    "        print(n,end=\" \")\n",
    "        \n",
    "        \n",
    "        \n",
    "\n"
   ]
  },
  {
   "cell_type": "code",
   "execution_count": 80,
   "id": "2d74d26a",
   "metadata": {},
   "outputs": [
    {
     "name": "stdout",
     "output_type": "stream",
     "text": [
      "Enter the number: 1\n",
      "Enter the number: 20\n",
      "1 3 5 7 9 11 13 15 17 19 "
     ]
    }
   ],
   "source": [
    "#27]Python program to print all odd numbers in a range\n",
    "#using for loop \n",
    "\n",
    "lower=int(input(\"Enter the number: \"))\n",
    "upper=int(input(\"Enter the number: \"))\n",
    "for n in range(lower,upper+1):\n",
    "    if n%2!=0:\n",
    "        print(n,end=\" \")\n",
    "        "
   ]
  },
  {
   "cell_type": "code",
   "execution_count": 89,
   "id": "8d8c636e",
   "metadata": {},
   "outputs": [
    {
     "name": "stdout",
     "output_type": "stream",
     "text": [
      "even number count:  4\n",
      "odd number count:  5\n",
      "5\n",
      "4\n"
     ]
    }
   ],
   "source": [
    "#29] Python program to count Even and Odd numbers in a List\n",
    "#1]using for loop\n",
    "list1=[1,2,3,4,5,6,7,8,9]\n",
    "even_count=0\n",
    "odd_count=0\n",
    "for i in list1:\n",
    "    if i%2==0:\n",
    "        even_count+=1\n",
    "        \n",
    "    else:\n",
    "        odd_count+=1\n",
    "print(\"even number count: \",even_count)\n",
    "print(\"odd number count: \",odd_count)\n",
    "\n",
    "\n",
    "#2]using lambda function\n",
    "list1=[12,3,4,6,7,84,5,9,5]\n",
    "odd_count=list(filter(lambda x: x%2!=0,list1))\n",
    "print(len(odd_count))\n",
    "even_count=list(filter(lambda x: x%2==0,list1))\n",
    "print(len(even_count))\n",
    "\n"
   ]
  },
  {
   "cell_type": "code",
   "execution_count": 100,
   "id": "cbc22fa4",
   "metadata": {},
   "outputs": [
    {
     "name": "stdout",
     "output_type": "stream",
     "text": [
      "1 4 3 6 [1, 4, 3, 6]\n"
     ]
    }
   ],
   "source": [
    "#30]Python program to print positive numbers in a list\n",
    "#1] using for loop\n",
    "list1=[1,-2,-3,4,3,6,-8,-6]\n",
    "for i in list1:\n",
    "    if i>0:\n",
    "        print(i,end=\" \")\n",
    "        \n",
    "#2]using lambda\n",
    "list1=[1,-2,-3,4,3,6,-8,-6]\n",
    "print(list(filter(lambda x: x>0,list1)))"
   ]
  },
  {
   "cell_type": "code",
   "execution_count": 101,
   "id": "4c80f3a8",
   "metadata": {},
   "outputs": [
    {
     "name": "stdout",
     "output_type": "stream",
     "text": [
      "[-2, -3, -8, -6]\n"
     ]
    }
   ],
   "source": [
    "#31]Python program to print negative numbers in a list\n",
    "#1]using while loop\n",
    "# list1=[1,-2,-3,4,3,6,-8,-6]\n",
    "# su=0\n",
    "# while(su<len(list1)):\n",
    "#     if list1[su]<=0:\n",
    "#         print(list1[su],end=\" \")\n",
    "#     su+=1\n",
    "\n",
    "#2]using lambda,filter    \n",
    "list1=[1,-2,-3,4,3,6,-8,-6]\n",
    "print(list(filter(lambda x: x<0,list1)))\n",
    "\n",
    "\n"
   ]
  },
  {
   "cell_type": "code",
   "execution_count": 5,
   "id": "ea45b63c",
   "metadata": {},
   "outputs": [
    {
     "name": "stdout",
     "output_type": "stream",
     "text": [
      "Enter the start number: -33\n",
      "Enter the end number: 6\n",
      "0 1 2 3 4 5 6 "
     ]
    }
   ],
   "source": [
    "#32]Python program to print all positive numbers in a range\n",
    "start = int(input(\"Enter the start number: \"))\n",
    "end = int(input(\"Enter the end number: \"))\n",
    "for i in range(start,end+1):\n",
    "    if i >= 0:\n",
    "        print(i,end=\" \")"
   ]
  },
  {
   "cell_type": "code",
   "execution_count": 7,
   "id": "d5b44f61",
   "metadata": {},
   "outputs": [
    {
     "name": "stdout",
     "output_type": "stream",
     "text": [
      "-6 -5 -4 -3 -2 -1 "
     ]
    }
   ],
   "source": [
    "#33]Python program to print all negative numbers in a range \n",
    "start,end = -6,7\n",
    "for i in range(start,end+1):\n",
    "    if i < 0:\n",
    "        print(i,end=\" \")"
   ]
  },
  {
   "cell_type": "code",
   "execution_count": 15,
   "id": "9b923d92",
   "metadata": {},
   "outputs": [
    {
     "name": "stdout",
     "output_type": "stream",
     "text": [
      "positive count:  8\n",
      "negative count:  4\n"
     ]
    }
   ],
   "source": [
    "#34]Python program to count positive and negative numbers in a list\n",
    "list1=[1,-3,4,-6,-5,3,-8,2,8,3,4,5]\n",
    "positive_count=0\n",
    "negative_count=0\n",
    "for i in list1:\n",
    "    if i > 0:\n",
    "        positive_count=positive_count+1\n",
    "        \n",
    "    else:\n",
    "        negative_count=negative_count+1\n",
    "        \n",
    "print(\"positive count: \",positive_count)\n",
    "print(\"negative count: \",negative_count)"
   ]
  },
  {
   "cell_type": "code",
   "execution_count": 7,
   "id": "56a9cb87",
   "metadata": {},
   "outputs": [
    {
     "name": "stdout",
     "output_type": "stream",
     "text": [
      "[1, 2, 5, 6]\n"
     ]
    }
   ],
   "source": [
    "#35] Remove multiple elements from a list in Python\n",
    "#1]remove all odd numbers\n",
    "# list1=[1,2,3,4,5,6,7,8]\n",
    "# for i in list1:\n",
    "#     if i%2!=0:\n",
    "#         list1.remove(i)\n",
    "# print(\"new list: \",*list1)\n",
    "# print(list1)\n",
    "\n",
    "#2]remove element using index\n",
    "# list1=[1,2,3,4,5,6]\n",
    "# del list1[2:4]\n",
    "# print(list1)\n",
    "\n",
    "# 3]using for loop\n",
    "# list1=[1,2,3,4,5,6]\n",
    "# remove_element=[2,4,5]\n",
    "# for i in list1:\n",
    "#     if i not in remove_element:\n",
    "#         print(i,end=\" \")\n"
   ]
  },
  {
   "cell_type": "code",
   "execution_count": 53,
   "id": "7096c109",
   "metadata": {},
   "outputs": [
    {
     "name": "stdout",
     "output_type": "stream",
     "text": [
      "[('1', 'sush'), ('2', 'dam', 'dd'), (' ', ' '), ('qw', ' '), ('ss', ' ')]\n"
     ]
    }
   ],
   "source": [
    "#36]Python | Remove empty tuples from a list\n",
    "#1] using for loop\n",
    "# list1=[(),(\"1\",\"sush\"),(\"2\",\"dam\"),(),(\" \",\" \"),(),(\"qw\",\" \"),()]\n",
    "# list1 = [t for t in list1 if t]\n",
    "# print(list1)\n",
    "\n",
    "\n",
    "#2] using function\n",
    "list1=[(),(\"1\",\"sush\"),(\"2\",\"dam\",\"dd\"),(),(\" \",\" \"),(),(\"qw\",\" \"),(),(\"ss\",\" \")]\n",
    "def remove_tuple(list1):\n",
    "    list1=[t for t in list1 if t]\n",
    "    return list1\n",
    "print(remove_tuple(list1))"
   ]
  },
  {
   "cell_type": "code",
   "execution_count": 3,
   "id": "790ad69b",
   "metadata": {},
   "outputs": [
    {
     "name": "stdout",
     "output_type": "stream",
     "text": [
      "{1, 2, 3, 4, 5, 6, 7, 8}\n"
     ]
    }
   ],
   "source": [
    "#37]Python | Program to print duplicates from a list of integers\n",
    "#1] using for loop\n",
    "# list1=[1,2,3,4,3,2,5,6,4,5,7,8,5]\n",
    "# list2=[]\n",
    "# for i in list1:\n",
    "#     if i not in list2:\n",
    "#         list2.append(i)\n",
    "#     else:\n",
    "#         print(i,end=\" \")\n",
    "        \n",
    "list1=[1,2,3,4,3,2,5,6,4,5,7,8,5]\n",
    "s1=set(list1)\n",
    "print(s1)\n"
   ]
  },
  {
   "cell_type": "code",
   "execution_count": 61,
   "id": "bc202bb6",
   "metadata": {},
   "outputs": [
    {
     "name": "stdout",
     "output_type": "stream",
     "text": [
      "[10, 40, 90, 180, 200]\n"
     ]
    }
   ],
   "source": [
    "#38]Python program to find Cumulative sum of a list Break a list into chunks of size N in\n",
    "# list1=[10,30,50,90,20]\n",
    "# list2=[]\n",
    "# j=0\n",
    "# for i in range(0,len(list1)):\n",
    "#     j+=list1[i]\n",
    "#     list2.append(j)\n",
    "# print(list2)\n",
    "\n",
    "\n",
    "#2]using iter tool\n",
    "# from itertools import accumulate\n",
    "# list1=[10,30,50,90,20]\n",
    "# print(list(accumulate(list1,lambda x,y:x+y)))\n",
    "\n",
    "\n",
    "#3]Python code to get the Cumulative sum of a list\n",
    "# def Cumulative(lists):\n",
    "#     cu_list = []\n",
    "#     length = len(lists)\n",
    "#     cu_list = [sum(lists[0:x:1]) for x in range(0, length+1)]\n",
    "#     return cu_list[1:]\n",
    "\n",
    "# # Driver Code\n",
    "# lists = [10, 20, 30, 40, 50]\n",
    "# print (Cumulative(lists))\n",
    "\n"
   ]
  },
  {
   "cell_type": "code",
   "execution_count": 2,
   "id": "5f715fe9",
   "metadata": {},
   "outputs": [
    {
     "name": "stdout",
     "output_type": "stream",
     "text": [
      "[10, 30, 60, 100, 150]\n"
     ]
    }
   ],
   "source": [
    "list=[10,20,30,40,50]\n",
    "new_list=[]\n",
    "j=0\n",
    "for i in range(0,len(list)):\n",
    "    j+=list[i]\n",
    "    new_list.append(j)\n",
    "     \n",
    "print(new_list)"
   ]
  },
  {
   "cell_type": "code",
   "execution_count": 11,
   "id": "9a444444",
   "metadata": {},
   "outputs": [
    {
     "name": "stdout",
     "output_type": "stream",
     "text": [
      "['a', 'd', 'h', 'b', 'c', 'e', 'i', 'f', 'g']\n",
      "['g', 'k', 'r', 'e', 'e', 'g', 's', 'f', 'o']\n"
     ]
    }
   ],
   "source": [
    "#39]Python | Sort the values of first list using second list\n",
    "def sort_list(list1, list2):\n",
    "\n",
    "    zipped_pairs = zip(list2, list1)\n",
    "\n",
    "    z = [x for _, x in sorted(zipped_pairs)]\n",
    "\n",
    "    return z\n",
    "\n",
    "\n",
    "# driver code\n",
    "x = [\"a\", \"b\", \"c\", \"d\", \"e\", \"f\", \"g\", \"h\", \"i\"]\n",
    "y = [ 0, 1, 1, 0, 1, 2, 2, 0, 1]\n",
    "\n",
    "print(sort_list(x, y))\n",
    "\n",
    "x = [\"g\", \"e\", \"e\", \"k\", \"s\", \"f\", \"o\", \"r\", \"g\", \"e\", \"e\", \"k\", \"s\"]\n",
    "y = [ 0, 1, 1, 0, 1, 2, 2, 0, 1]\n",
    "\n",
    "print(sort_list(x, y))\n",
    "\n"
   ]
  },
  {
   "cell_type": "code",
   "execution_count": null,
   "id": "acc11e8f",
   "metadata": {},
   "outputs": [],
   "source": []
  }
 ],
 "metadata": {
  "kernelspec": {
   "display_name": "Python 3",
   "language": "python",
   "name": "python3"
  },
  "language_info": {
   "codemirror_mode": {
    "name": "ipython",
    "version": 3
   },
   "file_extension": ".py",
   "mimetype": "text/x-python",
   "name": "python",
   "nbconvert_exporter": "python",
   "pygments_lexer": "ipython3",
   "version": "3.9.2"
  }
 },
 "nbformat": 4,
 "nbformat_minor": 5
}
